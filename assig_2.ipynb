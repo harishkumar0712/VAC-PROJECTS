{
  "nbformat": 4,
  "nbformat_minor": 0,
  "metadata": {
    "colab": {
      "provenance": [],
      "include_colab_link": true
    },
    "kernelspec": {
      "name": "python3",
      "display_name": "Python 3"
    },
    "language_info": {
      "name": "python"
    }
  },
  "cells": [
    {
      "cell_type": "markdown",
      "metadata": {
        "id": "view-in-github",
        "colab_type": "text"
      },
      "source": [
        "<a href=\"https://colab.research.google.com/github/harishkumar0712/VAC-PROJECTS/blob/main/assig_2.ipynb\" target=\"_parent\"><img src=\"https://colab.research.google.com/assets/colab-badge.svg\" alt=\"Open In Colab\"/></a>"
      ]
    },
    {
      "cell_type": "code",
      "execution_count": null,
      "metadata": {
        "id": "SX1o274mmH4H"
      },
      "outputs": [],
      "source": [
        "my_adj = {\n",
        "  'Start':['A','B'],\n",
        "  'A':['Start','E','F'],\n",
        "  'B':['Start','D','C'],\n",
        "  'C':['B'],\n",
        "  'D':['B','Goal'],\n",
        "  'E':['A'],\n",
        "  'F':['A'],\n",
        "  'Goal':['D']\n",
        "}"
      ]
    },
    {
      "cell_type": "code",
      "source": [
        "from collections import deque"
      ],
      "metadata": {
        "id": "SkMdmUlEmX4S"
      },
      "execution_count": null,
      "outputs": []
    },
    {
      "cell_type": "code",
      "source": [
        "Q = deque([\"a\",\"b\",\"c\",\"d\",\"e\"])"
      ],
      "metadata": {
        "id": "PU3vKHkfmX6b"
      },
      "execution_count": null,
      "outputs": []
    },
    {
      "cell_type": "code",
      "source": [
        "Q.appendleft(\"O\")\n",
        "Q"
      ],
      "metadata": {
        "colab": {
          "base_uri": "https://localhost:8080/"
        },
        "id": "isnQV8QbmX8U",
        "outputId": "4685663c-8d09-4d5a-e6ae-d3ae40e7b5c1"
      },
      "execution_count": null,
      "outputs": [
        {
          "output_type": "execute_result",
          "data": {
            "text/plain": [
              "deque(['O', 'a', 'b', 'c', 'd', 'e'])"
            ]
          },
          "metadata": {},
          "execution_count": 4
        }
      ]
    },
    {
      "cell_type": "code",
      "source": [
        "Q.append(\"f\")\n",
        "Q"
      ],
      "metadata": {
        "colab": {
          "base_uri": "https://localhost:8080/"
        },
        "id": "xOsEphu9mX-E",
        "outputId": "a7d4c800-c237-43c3-ed77-6a9028204844"
      },
      "execution_count": null,
      "outputs": [
        {
          "output_type": "execute_result",
          "data": {
            "text/plain": [
              "deque(['O', 'a', 'b', 'c', 'd', 'e', 'f'])"
            ]
          },
          "metadata": {},
          "execution_count": 5
        }
      ]
    },
    {
      "cell_type": "code",
      "source": [
        "Q.popleft()"
      ],
      "metadata": {
        "colab": {
          "base_uri": "https://localhost:8080/",
          "height": 35
        },
        "id": "8zbouhYpmoBG",
        "outputId": "83000e71-fc6c-409e-d9ae-aa3c69cb0379"
      },
      "execution_count": null,
      "outputs": [
        {
          "output_type": "execute_result",
          "data": {
            "text/plain": [
              "'b'"
            ],
            "application/vnd.google.colaboratory.intrinsic+json": {
              "type": "string"
            }
          },
          "metadata": {},
          "execution_count": 18
        }
      ]
    },
    {
      "cell_type": "code",
      "source": [
        "Q"
      ],
      "metadata": {
        "colab": {
          "base_uri": "https://localhost:8080/"
        },
        "id": "etc08QG8moD_",
        "outputId": "8eb94e89-82e4-44b4-f832-7af0e358698b"
      },
      "execution_count": null,
      "outputs": [
        {
          "output_type": "execute_result",
          "data": {
            "text/plain": [
              "deque(['a', 'b', 'c', 'd', 'e', 'f'])"
            ]
          },
          "metadata": {},
          "execution_count": 7
        }
      ]
    },
    {
      "cell_type": "code",
      "source": [
        "Q.pop()"
      ],
      "metadata": {
        "colab": {
          "base_uri": "https://localhost:8080/",
          "height": 35
        },
        "id": "q43ucJXNmoHc",
        "outputId": "62cf0b94-85cb-40a4-812a-88aad367dc4a"
      },
      "execution_count": null,
      "outputs": [
        {
          "output_type": "execute_result",
          "data": {
            "text/plain": [
              "'f'"
            ],
            "application/vnd.google.colaboratory.intrinsic+json": {
              "type": "string"
            }
          },
          "metadata": {},
          "execution_count": 8
        }
      ]
    },
    {
      "cell_type": "code",
      "source": [
        "graph = {\n",
        "  'Sam':['Aaron','Binny'],\n",
        "  'Aaron':['Sam','Christine','Danny'],\n",
        "'Binny':['Elvin','Flin'],\n",
        "'Christine':['Aaron'],\n",
        "'Danny':['Aaron'],\n",
        "'Elvin':['Binny','Gini'],\n",
        "'Flin':['Binny'],\n",
        "'Gini':['Elvin']\n",
        "}"
      ],
      "metadata": {
        "id": "vjoc4yicmoYN"
      },
      "execution_count": null,
      "outputs": []
    },
    {
      "cell_type": "code",
      "source": [
        "from collections import deque\n",
        "def bfs(graph,start,goal):\n",
        "  visited = []\n",
        "  queue = deque([start])\n",
        "  while queue:\n",
        "   node = queue.popleft()\n",
        "   if node not in visited:\n",
        "       visited.append(node)\n",
        "       print(\"I have visited: \",node)\n",
        "       neighbours = graph[node]\n",
        "       if node ==goal:\n",
        "            return(\"I have reached the goal, this is my traversed path: \",visited)\n",
        "       for neighbour in neighbours:\n",
        "            queue.append(neighbour)"
      ],
      "metadata": {
        "id": "KbKmPCN8mocA"
      },
      "execution_count": null,
      "outputs": []
    },
    {
      "cell_type": "code",
      "source": [
        "bfs(graph,'Sam','Gini')"
      ],
      "metadata": {
        "colab": {
          "base_uri": "https://localhost:8080/"
        },
        "id": "8Bwoxq42ng5t",
        "outputId": "17bd22ac-af6a-4ca7-d9ed-167a9002464d"
      },
      "execution_count": null,
      "outputs": [
        {
          "output_type": "stream",
          "name": "stdout",
          "text": [
            "I have visited:  Sam\n",
            "I have visited:  Aaron\n",
            "I have visited:  Binny\n",
            "I have visited:  Christine\n",
            "I have visited:  Danny\n",
            "I have visited:  Elvin\n",
            "I have visited:  Flin\n",
            "I have visited:  Gini\n"
          ]
        },
        {
          "output_type": "execute_result",
          "data": {
            "text/plain": [
              "('I have reached the goal, this is my traversed path: ',\n",
              " ['Sam', 'Aaron', 'Binny', 'Christine', 'Danny', 'Elvin', 'Flin', 'Gini'])"
            ]
          },
          "metadata": {},
          "execution_count": 11
        }
      ]
    }
  ]
}